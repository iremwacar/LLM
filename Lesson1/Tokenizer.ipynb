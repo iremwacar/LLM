{
 "cells": [
  {
   "cell_type": "code",
   "execution_count": null,
   "id": "f8bb13b4",
   "metadata": {},
   "outputs": [],
   "source": [
    "text1 = \"Bir kedi köpeği kovaladı\"\n",
    "text2 = \"Bir köpek kediyi kovaladı\"\n",
    "text3 = \"Türkiye'nin başkenti\""
   ]
  },
  {
   "cell_type": "code",
   "execution_count": null,
   "id": "14b164ca",
   "metadata": {},
   "outputs": [],
   "source": [
    "# Function to tokenize text\n",
    "def tokenezer(text):\n",
    "    return text.split()"
   ]
  },
  {
   "cell_type": "code",
   "execution_count": 3,
   "id": "7a4b3ebe",
   "metadata": {},
   "outputs": [
    {
     "data": {
      "text/plain": [
       "(['Kedi', 'köpeği', 'kovaladı'],\n",
       " ['Köpek', 'kediyi', 'kovaladı'],\n",
       " [\"Türkiye'nin\", 'başkenti'])"
      ]
     },
     "execution_count": 3,
     "metadata": {},
     "output_type": "execute_result"
    }
   ],
   "source": [
    "tokenezer(text1), tokenezer(text2), tokenezer(text3)"
   ]
  },
  {
   "cell_type": "code",
   "execution_count": 12,
   "id": "5f644372",
   "metadata": {},
   "outputs": [],
   "source": [
    "vocab = {\n",
    "   \"Bir\": 0,\n",
    "   \"Kedi\": 1,\n",
    "   \"kedi\": 2,\n",
    "   \"köpek\": 3,\n",
    "   \"Köpek\": 4,\n",
    "   \"köpeği\": 5,\n",
    "   \"kovaladı\": 6,\n",
    "   \"kediyi\": 7,\n",
    "   \"Türkiye\": 8,\n",
    "   \"Türkiye'nin\": 9,\n",
    "   \"başkenti\": 10,\n",
    "   \"<unk>\": 11,\n",
    "}\n",
    "\n",
    "def tokenezer2(text):\n",
    "    parts = text.split()\n",
    "    ids = []\n",
    "    for part in parts:\n",
    "        if part in vocab:\n",
    "            value = vocab[part]\n",
    "        else:\n",
    "            value = vocab[\"<unk>\"]\n",
    "        ids.append(value)\n",
    "    return ids\n",
    "\n",
    "toek_ids1 = tokenezer2(text1)\n",
    "toek_ids2 = tokenezer2(text2)  \n",
    "toek_ids3 = tokenezer2(text3)"
   ]
  },
  {
   "cell_type": "code",
   "execution_count": 13,
   "id": "4c1a8389",
   "metadata": {},
   "outputs": [
    {
     "data": {
      "text/plain": [
       "{0: 'Bir',\n",
       " 1: 'Kedi',\n",
       " 2: 'kedi',\n",
       " 3: 'köpek',\n",
       " 4: 'Köpek',\n",
       " 5: 'köpeği',\n",
       " 6: 'kovaladı',\n",
       " 7: 'kediyi',\n",
       " 8: 'Türkiye',\n",
       " 9: \"Türkiye'nin\",\n",
       " 10: 'başkenti',\n",
       " 11: '<unk>'}"
      ]
     },
     "execution_count": 13,
     "metadata": {},
     "output_type": "execute_result"
    }
   ],
   "source": [
    "reverse_vocab = {v: k for k, v in vocab.items()}\n",
    "reverse_vocab"
   ]
  },
  {
   "cell_type": "code",
   "execution_count": 14,
   "id": "d8784012",
   "metadata": {},
   "outputs": [
    {
     "data": {
      "text/plain": [
       "('Kedi köpeği kovaladı', 'Köpek kediyi kovaladı', \"Türkiye'nin başkenti\")"
      ]
     },
     "execution_count": 14,
     "metadata": {},
     "output_type": "execute_result"
    }
   ],
   "source": [
    "def detokenize(ids):\n",
    "    text = \"\"\n",
    "    for id in ids:\n",
    "        part = reverse_vocab[id]\n",
    "        text += part + \" \"\n",
    "    text = text.strip()\n",
    "    return text\n",
    "\n",
    "detokenize(toek_ids1), detokenize(toek_ids2), detokenize(toek_ids3)"
   ]
  }
 ],
 "metadata": {
  "kernelspec": {
   "display_name": "Python 3",
   "language": "python",
   "name": "python3"
  },
  "language_info": {
   "codemirror_mode": {
    "name": "ipython",
    "version": 3
   },
   "file_extension": ".py",
   "mimetype": "text/x-python",
   "name": "python",
   "nbconvert_exporter": "python",
   "pygments_lexer": "ipython3",
   "version": "3.12.10"
  }
 },
 "nbformat": 4,
 "nbformat_minor": 5
}
