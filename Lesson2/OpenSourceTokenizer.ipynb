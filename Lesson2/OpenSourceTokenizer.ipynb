{
 "cells": [
  {
   "cell_type": "code",
   "execution_count": 1,
   "id": "edb1f680",
   "metadata": {},
   "outputs": [],
   "source": [
    "text1 = \"Bir kedi köpeği kovaladı\"\n",
    "text2 = \"Bir köpek kediyi kovaladı\"\n",
    "text3 = \"Türkiye'nin başkenti\""
   ]
  },
  {
   "cell_type": "code",
   "execution_count": 2,
   "id": "a9349549",
   "metadata": {},
   "outputs": [],
   "source": [
    "# Function to tokenize text\n",
    "def tokenezer(text):\n",
    "    return text.split()"
   ]
  },
  {
   "cell_type": "code",
   "execution_count": 3,
   "id": "5dd4f95c",
   "metadata": {},
   "outputs": [
    {
     "data": {
      "text/plain": [
       "(['Bir', 'kedi', 'köpeği', 'kovaladı'],\n",
       " ['Bir', 'köpek', 'kediyi', 'kovaladı'],\n",
       " [\"Türkiye'nin\", 'başkenti'])"
      ]
     },
     "execution_count": 3,
     "metadata": {},
     "output_type": "execute_result"
    }
   ],
   "source": [
    "tokenezer(text1), tokenezer(text2), tokenezer(text3)"
   ]
  },
  {
   "cell_type": "code",
   "execution_count": 13,
   "id": "7d9ad11a",
   "metadata": {},
   "outputs": [],
   "source": [
    "import json\n",
    "\n",
    "with open(\"tokenizer.json\", \"r\", encoding=\"utf-8\") as f:\n",
    "    vocab = json.load(f)\n",
    "\n",
    "def tokenezer2(text):\n",
    "    parts = text.split()\n",
    "    ids = []\n",
    "    for part in parts:\n",
    "        if part in vocab:\n",
    "            value = vocab[part]\n",
    "        else:\n",
    "            value = vocab[\"<unk>\"]\n",
    "        ids.append(value)\n",
    "    return ids\n",
    "\n",
    "toek_ids1 = tokenezer2(text1)\n",
    "toek_ids2 = tokenezer2(text2)  \n",
    "toek_ids3 = tokenezer2(text3)"
   ]
  },
  {
   "cell_type": "code",
   "execution_count": 5,
   "id": "edb6495c",
   "metadata": {},
   "outputs": [
    {
     "data": {
      "text/plain": [
       "{0: 'Bir',\n",
       " 1: 'Kedi',\n",
       " 2: 'kedi',\n",
       " 3: 'köpek',\n",
       " 4: 'Köpek',\n",
       " 5: 'köpeği',\n",
       " 6: 'kovaladı',\n",
       " 7: 'kediyi',\n",
       " 8: 'Türkiye',\n",
       " 9: \"Türkiye'nin\",\n",
       " 10: 'başkenti',\n",
       " 11: '<unk>'}"
      ]
     },
     "execution_count": 5,
     "metadata": {},
     "output_type": "execute_result"
    }
   ],
   "source": [
    "reverse_vocab = {v: k for k, v in vocab.items()}\n",
    "reverse_vocab"
   ]
  },
  {
   "cell_type": "code",
   "execution_count": 6,
   "id": "7fe504f4",
   "metadata": {},
   "outputs": [
    {
     "data": {
      "text/plain": [
       "('Bir kedi köpeği kovaladı',\n",
       " 'Bir köpek kediyi kovaladı',\n",
       " \"Türkiye'nin başkenti\")"
      ]
     },
     "execution_count": 6,
     "metadata": {},
     "output_type": "execute_result"
    }
   ],
   "source": [
    "def detokenize(ids):\n",
    "    text = \"\"\n",
    "    for id in ids:\n",
    "        part = reverse_vocab[id]\n",
    "        text += part + \" \"\n",
    "    text = text.strip()\n",
    "    return text\n",
    "\n",
    "detokenize(toek_ids1), detokenize(toek_ids2), detokenize(toek_ids3)"
   ]
  },
  {
   "cell_type": "code",
   "execution_count": 10,
   "id": "ea73e47c",
   "metadata": {},
   "outputs": [
    {
     "data": {
      "text/plain": [
       "[50091, 479, 13740, 479, 9101, 431, 33133, 72, 479, 8325, 324, 30102]"
      ]
     },
     "execution_count": 10,
     "metadata": {},
     "output_type": "execute_result"
    }
   ],
   "source": [
    "import tiktoken\n",
    "\n",
    "enc = tiktoken.get_encoding(\"gpt2\")\n",
    "\n",
    "gpt2_ids = enc.encode(text1)\n",
    "gpt2_ids"
   ]
  },
  {
   "cell_type": "code",
   "execution_count": 11,
   "id": "0e4cd68c",
   "metadata": {},
   "outputs": [
    {
     "data": {
      "text/plain": [
       "'Bir kedi köpeği kovaladı'"
      ]
     },
     "execution_count": 11,
     "metadata": {},
     "output_type": "execute_result"
    }
   ],
   "source": [
    "enc.decode(gpt2_ids)"
   ]
  }
 ],
 "metadata": {
  "kernelspec": {
   "display_name": "Python 3",
   "language": "python",
   "name": "python3"
  },
  "language_info": {
   "codemirror_mode": {
    "name": "ipython",
    "version": 3
   },
   "file_extension": ".py",
   "mimetype": "text/x-python",
   "name": "python",
   "nbconvert_exporter": "python",
   "pygments_lexer": "ipython3",
   "version": "3.12.10"
  }
 },
 "nbformat": 4,
 "nbformat_minor": 5
}
